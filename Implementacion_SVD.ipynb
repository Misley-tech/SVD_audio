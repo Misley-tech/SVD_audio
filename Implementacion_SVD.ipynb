{
 "cells": [
  {
   "cell_type": "code",
   "execution_count": 138,
   "metadata": {},
   "outputs": [],
   "source": [
    "import soundfile as sf\n",
    "import numpy as np\n",
    "import matplotlib.pyplot as plt\n",
    "import scipy as sc"
   ]
  },
  {
   "cell_type": "markdown",
   "metadata": {},
   "source": [
    "# Reconstruccion"
   ]
  },
  {
   "cell_type": "code",
   "execution_count": 144,
   "metadata": {},
   "outputs": [],
   "source": [
    "A,fs=sf.read('C:/Users/Asus/Desktop/programitas/SVD/Audio/Trumpet/trumpet_8k.wav')\n",
    "A=np.array([A])\n",
    "A_t=np.transpose(A)\n",
    "C=A_t@A"
   ]
  },
  {
   "cell_type": "code",
   "execution_count": 145,
   "metadata": {},
   "outputs": [
    {
     "name": "stdout",
     "output_type": "stream",
     "text": [
      "[ 7.27519978e+00+0.00000000e+00j  1.11063020e-16+1.95574206e-16j\n",
      "  1.11063020e-16-1.95574206e-16j ... -2.26066811e-36+0.00000000e+00j\n",
      "  3.67988395e-38+0.00000000e+00j  0.00000000e+00+0.00000000e+00j]\n"
     ]
    }
   ],
   "source": [
    "eigenvalues, V = np.linalg.eig(C)\n",
    "print(eigenvalues)\n",
    "V_t=np.transpose(V)\n",
    "singular_values = np.sqrt(eigenvalues)\n",
    "sigma = np.diag(singular_values)\n",
    "sigma_inv = sc.linalg.pinvh(sigma)\n",
    "U=A@V@sigma_inv"
   ]
  },
  {
   "cell_type": "code",
   "execution_count": 146,
   "metadata": {},
   "outputs": [
    {
     "data": {
      "image/png": "[encoded data removed]",
      "text/plain": [
       "<Figure size 640x480 with 1 Axes>"
      ]
     },
     "metadata": {},
     "output_type": "display_data"
    }
   ],
   "source": [
    "# F=U@sigma@np.transpose(V)\n",
    "# F=np.real(F)\n",
    "# print(F[0])\n",
    "# print(A[0])\n",
    "# sf.write('HolaSVD.wav',F[0],fs)\n",
    "plt.plot(np.real(eigenvalues))\n",
    "plt.show()"
   ]
  },
  {
   "cell_type": "code",
   "execution_count": 130,
   "metadata": {},
   "outputs": [
    {
     "name": "stdout",
     "output_type": "stream",
     "text": [
      "[0.00000000e+00 5.12599945e-06 9.77516174e-06 ... 1.65820122e-04\n",
      " 6.42538071e-05 1.53779984e-05]\n"
     ]
    }
   ],
   "source": [
    "r=1\n",
    "suma=np.zeros(np.shape(A))\n",
    "for i in range(r):\n",
    "    suma=singular_values[i]*(np.transpose([U[i]])@([V_t[i]]))\n",
    "print(np.real(suma[0]))\n",
    "sf.write('HolaSVD_reconstruccion.wav',np.real(suma[0]),fs)"
   ]
  },
  {
   "cell_type": "markdown",
   "metadata": {},
   "source": [
    "## Ejemplo"
   ]
  },
  {
   "cell_type": "code",
   "execution_count": 60,
   "metadata": {},
   "outputs": [
    {
     "name": "stdout",
     "output_type": "stream",
     "text": [
      "[[ 2. -2.]\n",
      " [ 4. -4.]]\n",
      "[[ 4.  0.]\n",
      " [ 3. -5.]]\n"
     ]
    }
   ],
   "source": [
    "import numpy as np\n",
    "\n",
    "A = [[4,0],[3,-5]]\n",
    "A=np.array(A)\n",
    "A_t=np.transpose(A)\n",
    "C=A_t@A\n",
    "\n",
    "eigenvalues, V = np.linalg.eig(C)\n",
    "V_t=np.transpose(V)\n",
    "singular_values = np.sqrt(eigenvalues)\n",
    "Sigma = np.diag(singular_values)\n",
    "Sigma_inv = sc.linalg.pinvh(Sigma)\n",
    "U=A@V@Sigma_inv\n",
    "\n",
    "termino1=singular_values[0]*(np.transpose([U[0]])@[V_t[0]])\n",
    "termino2=singular_values[1]*(np.transpose([U[1]])@[V_t[1]])\n",
    "print(termino1)\n",
    "print(termino2+termino1)"
   ]
  },
  {
   "cell_type": "code",
   "execution_count": 64,
   "metadata": {},
   "outputs": [
    {
     "name": "stdout",
     "output_type": "stream",
     "text": [
      "[[ 4.  0.]\n",
      " [ 3. -5.]]\n"
     ]
    }
   ],
   "source": [
    "r=2\n",
    "suma=np.zeros((2,2))\n",
    "for i in range(r):\n",
    "    suma+=singular_values[i]*(np.transpose([U[i]])@[V_t[i]])\n",
    "print(suma)"
   ]
  },
  {
   "cell_type": "code",
   "execution_count": null,
   "metadata": {},
   "outputs": [],
   "source": []
  }
 ],
 "metadata": {
  "kernelspec": {
   "display_name": "Python 3",
   "language": "python",
   "name": "python3"
  },
  "language_info": {
   "codemirror_mode": {
    "name": "ipython",
    "version": 3
   },
   "file_extension": ".py",
   "mimetype": "text/x-python",
   "name": "python",
   "nbconvert_exporter": "python",
   "pygments_lexer": "ipython3",
   "version": "3.10.11"
  },
  "orig_nbformat": 4
 },
 "nbformat": 4,
 "nbformat_minor": 2
}
